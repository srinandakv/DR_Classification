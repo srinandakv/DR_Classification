{
  "cells": [
    {
      "cell_type": "code",
      "execution_count": null,
      "metadata": {
        "id": "Fw9KxInQXLre"
      },
      "outputs": [],
      "source": [
        "import numpy as np # linear algebra\n",
        "import pandas as pd # data processing, CSV file I/O (e.g. pd.read_csv)\n",
        "from google.colab import drive, files\n",
        "import os\n"
      ]
    },
    {
      "cell_type": "code",
      "execution_count": null,
      "metadata": {
        "id": "LLGzeVTvX4_Z"
      },
      "outputs": [],
      "source": [
        "drive.mount('/content/drive')\n",
        "dir_path = \"/content/drive/MyDrive/DR/colored_images/\"\n"
      ]
    },
    {
      "cell_type": "code",
      "execution_count": null,
      "metadata": {
        "id": "kAMZOtp4mYox"
      },
      "outputs": [],
      "source": [
        "# import zipfile\n",
        "\n",
        "# zip_path = \"/content/drive/MyDrive/DR/archive.zip\"\n",
        "# extract_path = \"/content/drive/MyDrive/DR/\"\n",
        "\n",
        "# # Open the zip file for reading\n",
        "# with zipfile.ZipFile(zip_path, 'r') as zip_ref:\n",
        "#     # Extract all files to the given directory\n",
        "#     zip_ref.extractall(extract_path)"
      ]
    },
    {
      "cell_type": "code",
      "execution_count": null,
      "metadata": {
        "id": "pc4uV5XSZIiU"
      },
      "outputs": [],
      "source": [
        "for root, dirs, files in os.walk(dir_path):\n",
        "    # Print the path of each file\n",
        "    for file in files:\n",
        "        print(os.path.join(root, file))"
      ]
    },
    {
      "cell_type": "code",
      "execution_count": null,
      "metadata": {
        "id": "K6v00by5cru1"
      },
      "outputs": [],
      "source": [
        "os.listdir(dir_path)"
      ]
    },
    {
      "cell_type": "code",
      "execution_count": null,
      "metadata": {
        "id": "O9zVPkqWczmk"
      },
      "outputs": [],
      "source": [
        "import matplotlib.pyplot as plt\n",
        "from matplotlib import image\n",
        "from PIL import Image,UnidentifiedImageError\n",
        "\n"
      ]
    },
    {
      "cell_type": "code",
      "execution_count": null,
      "metadata": {
        "id": "w4bV16wIfD0Z"
      },
      "outputs": [],
      "source": [
        "def load_imgs(impath):\n",
        "    imgs=[]\n",
        "    label=[]\n",
        "    l1=os.listdir(impath)\n",
        "    for i in l1:\n",
        "        l2=os.listdir(impath+'/'+i)\n",
        "        for j in l2:\n",
        "                try:\n",
        "                  filepath=impath+i+'/'+j\n",
        "                  img=Image.open(filepath)\n",
        "                  imgs.append(np.array(img))\n",
        "                  label.append(i)\n",
        "                except UnidentifiedImageError as e:\n",
        "                  print(f'Error reading image at file path {filepath}: {e}')\n",
        "                  continue\n",
        "    return np.array(imgs),label\n",
        "\n",
        "\n"
      ]
    },
    {
      "cell_type": "code",
      "execution_count": null,
      "metadata": {
        "id": "yICJoHuYfRV6"
      },
      "outputs": [],
      "source": [
        "x,y=load_imgs(dir_path)\n",
        "print(x.shape)\n",
        "print(len(y))"
      ]
    },
    {
      "cell_type": "code",
      "execution_count": null,
      "metadata": {
        "id": "_O_4LYC0kkAa"
      },
      "outputs": [],
      "source": [
        "print(y)"
      ]
    },
    {
      "cell_type": "code",
      "execution_count": null,
      "metadata": {
        "id": "oRujP4FsuDdT"
      },
      "outputs": [],
      "source": [
        "unique_categories, category_counts = np.unique(y, return_counts=True)\n",
        "for i in range(len(unique_categories)):\n",
        "    print(f\"Category '{unique_categories[i]}' occurs {category_counts[i]} times.\")\n"
      ]
    },
    {
      "cell_type": "code",
      "execution_count": null,
      "metadata": {
        "id": "usZc341OwYkp"
      },
      "outputs": [],
      "source": [
        "#Plot a bar graph\n",
        "plt.bar(unique_categories, category_counts)\n",
        "plt.title('Category Counts')\n",
        "plt.xlabel('Category')\n",
        "plt.ylabel('Count')\n",
        "plt.show()"
      ]
    },
    {
      "cell_type": "code",
      "execution_count": null,
      "metadata": {
        "id": "ByEigjyOwnEI"
      },
      "outputs": [],
      "source": [
        "target=pd.Series(y,dtype='category')\n",
        "print(target)"
      ]
    },
    {
      "cell_type": "code",
      "execution_count": null,
      "metadata": {
        "id": "pbFCk3H_xTXc"
      },
      "outputs": [],
      "source": [
        "#Encoding the categories:\n",
        "t=target.cat.codes\n",
        "print(t)"
      ]
    },
    {
      "cell_type": "code",
      "execution_count": null,
      "metadata": {
        "id": "uIDf0yRux1Wk"
      },
      "outputs": [],
      "source": [
        "# get the unique categories in the Series\n",
        "unique_categories = target.unique()\n",
        "\n",
        "# create a dictionary that maps each category to its corresponding integer code\n",
        "code_map = dict(zip(unique_categories, t.unique()))\n",
        "\n",
        "print(code_map)"
      ]
    },
    {
      "cell_type": "code",
      "execution_count": null,
      "metadata": {
        "id": "vrChjorszbCg"
      },
      "outputs": [],
      "source": [
        "from sklearn.model_selection import train_test_split\n",
        "train_x,test_x,train_y,test_y=train_test_split(x,t,test_size=0.2,shuffle=True)\n",
        "\n",
        "print(train_x.shape)\n",
        "print(test_x.shape)\n",
        "print(train_y.shape)\n",
        "print(test_y.shape)"
      ]
    },
    {
      "cell_type": "code",
      "execution_count": null,
      "metadata": {
        "id": "6mShwtAL0XxU"
      },
      "outputs": [],
      "source": [
        "# import numpy as np\n",
        "# from tensorflow.keras import layers\n",
        "# from tensorflow.keras.layers import Input, Add, Dense, Activation, ZeroPadding2D, BatchNormalization, Flatten, Conv2D, AveragePooling2D, MaxPooling2D, GlobalMaxPooling2D, Dropout\n",
        "# from tensorflow.keras.models import Model, load_model\n",
        "# from tensorflow.keras.preprocessing import image\n",
        "# from keras.utils import layer_utils\n",
        "# # from keras.utils.data_utils import get_file\n",
        "# # from keras.applications.imagenet_utils import preprocess_input\n",
        "# # import pydot\n",
        "# # #from IPython.display import SVG\n",
        "# # from keras.utils.vis_utils import model_to_dot\n",
        "# # from tensorflow.keras.utils import plot_model\n",
        "\n",
        "# from tensorflow.keras.initializers import glorot_uniform\n",
        "# import scipy.misc\n",
        "# from matplotlib.pyplot import imshow\n",
        "\n",
        "# from tensorflow.keras.initializers import glorot_uniform\n",
        "# from tensorflow.keras.layers import Input, Add, Dense, Activation, ZeroPadding2D, BatchNormalization, Flatten, Conv2D, AveragePooling2D, MaxPooling2D, GlobalMaxPooling2D"
      ]
    },
    {
      "cell_type": "code",
      "execution_count": null,
      "metadata": {
        "id": "xrwwJi201BEC"
      },
      "outputs": [],
      "source": [
        "import tensorflow as tf\n",
        "from tensorflow.keras.preprocessing.image import ImageDataGenerator\n",
        "\n",
        "# define the augmentation transformations to apply\n",
        "datagen = ImageDataGenerator(\n",
        "    rescale=1./255,\n",
        "    brightness_range=[1 - 20/255, 1 + 20/255],\n",
        "    zoom_range=0.2,\n",
        "    rotation_range=180,\n",
        "    width_shift_range=0.2,\n",
        "    height_shift_range=0.2,\n",
        "    horizontal_flip=True,\n",
        "    vertical_flip=True,\n",
        "\n",
        ")\n",
        "\n",
        "train_gen = datagen.flow(train_x, train_y, batch_size=32)\n",
        "\n",
        "validation_datagen = ImageDataGenerator(\n",
        "    rescale=1./255,\n",
        "    brightness_range=[1 - 20/255, 1 + 20/255],\n",
        "    zoom_range=0.2,\n",
        "    rotation_range=180,\n",
        "    width_shift_range=0.2,\n",
        "    height_shift_range=0.2,\n",
        "    horizontal_flip=True,\n",
        "    vertical_flip=True,\n",
        "\n",
        ")\n",
        "validation_gen=validation_datagen.flow(test_x,test_y,batch_size=32)\n",
        "\n"
      ]
    },
    {
      "cell_type": "code",
      "execution_count": null,
      "metadata": {
        "id": "QI82j8PY2xYs"
      },
      "outputs": [],
      "source": [
        "import warnings\n",
        "warnings.filterwarnings('ignore')\n",
        "import os\n",
        "import zipfile\n",
        "import random\n",
        "import shutil\n",
        "import tensorflow as tf\n",
        "from tensorflow.keras.preprocessing.image import ImageDataGenerator\n",
        "from shutil import copyfile\n",
        "import matplotlib.pyplot as plt\n",
        "from tensorflow.keras.optimizers import Adam"
      ]
    },
    {
      "cell_type": "code",
      "execution_count": null,
      "metadata": {
        "id": "lzsWl-FL2iVO"
      },
      "outputs": [],
      "source": [
        "from tensorflow.keras.layers import GlobalAveragePooling2D, Dense, Dropout\n",
        "from tensorflow.keras.models import Model\n",
        "from tensorflow.keras.applications.vgg16 import VGG16\n",
        "\n",
        "# Load Pretrained VGG16 Model\n",
        "base_model = VGG16(weights='imagenet', include_top=False, input_shape=(224, 224, 3))\n",
        "\n",
        "# Add Global Average Pooling Layer\n",
        "x = base_model.output\n",
        "x = GlobalAveragePooling2D()(x)\n",
        "x = Dense(1024, activation='relu')(x)\n",
        "x = Dropout(0.5)(x)\n",
        "predictions = Dense(5, activation='softmax')(x)\n",
        "\n",
        "# Create the model\n",
        "model = Model(inputs=base_model.input, outputs=predictions)\n",
        "\n"
      ]
    },
    {
      "cell_type": "code",
      "execution_count": null,
      "metadata": {
        "id": "zSH6oklcmMMN"
      },
      "outputs": [],
      "source": [
        "for layer in base_model.layers:\n",
        "    layer.trainable = False\n",
        "\n",
        "\n",
        "# Compile your model with sigmoid focal cross-entropy loss\n",
        "model.compile(optimizer='adam', loss='sparse_categorical_crossentropy', metrics=['accuracy'])\n",
        "\n",
        "train_x=train_x/255.0\n",
        "test_x=test_x/255.0\n",
        "\n",
        "# Compile Model\n",
        "history = model.fit(train_x, train_y, epochs=10, batch_size=32, validation_data=(test_x, test_y))\n",
        "\n"
      ]
    },
    {
      "cell_type": "code",
      "execution_count": null,
      "metadata": {
        "id": "P60w29K32RSB"
      },
      "outputs": [],
      "source": [
        "plt.plot(history.history['loss'], label='Training Loss')\n",
        "plt.plot(history.history['val_loss'], label='Validation Loss')\n",
        "plt.xlabel('Epochs')\n",
        "plt.ylabel('Loss')\n",
        "plt.legend()\n",
        "plt.show()"
      ]
    },
    {
      "cell_type": "code",
      "execution_count": null,
      "metadata": {
        "id": "ZZSPARLnRQnF"
      },
      "outputs": [],
      "source": [
        "import numpy as np\n",
        "import matplotlib.pyplot as plt\n",
        "\n",
        "# get the predicted class probabilities for the validation set\n",
        "y_pred_prob = model.predict(validation_gen)\n",
        "\n",
        "# get the predicted class for each sample in the validation set\n",
        "y_pred = np.argmax(y_pred_prob, axis=1)\n",
        "\n",
        "# get a batch of validation images and their true labels\n",
        "x_val, y_val = next(validation_gen)\n",
        "\n",
        "# select a random image from the batch\n",
        "index = np.random.randint(len(x_val))\n",
        "\n",
        "# get the predicted label for the selected image\n",
        "label_pred = y_pred[18]\n",
        "\n",
        "# get the true label for the selected image\n",
        "label_true = y_val[18]\n",
        "\n",
        "# get the image array for the selected image\n",
        "img = x_val[18]\n",
        "\n",
        "# display the image with the predicted and true labels\n",
        "plt.imshow(img)\n",
        "plt.title(f\"Predicted label: {label_pred}, True label: {label_true}\")\n",
        "plt.show()"
      ]
    }
  ],
  "metadata": {
    "accelerator": "GPU",
    "colab": {
      "gpuType": "T4",
      "provenance": []
    },
    "kernelspec": {
      "display_name": "Python 3",
      "name": "python3"
    },
    "language_info": {
      "name": "python"
    }
  },
  "nbformat": 4,
  "nbformat_minor": 0
}